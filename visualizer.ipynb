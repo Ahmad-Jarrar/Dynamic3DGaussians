{
 "cells": [
  {
   "cell_type": "code",
   "execution_count": 1,
   "metadata": {
    "tags": []
   },
   "outputs": [
    {
     "name": "stdout",
     "output_type": "stream",
     "text": [
      "Jupyter environment detected. Enabling Open3D WebVisualizer.\n",
      "[Open3D INFO] WebRTC GUI backend enabled.\n",
      "[Open3D INFO] WebRTCWindowSystem: HTTP handshake server disabled.\n"
     ]
    }
   ],
   "source": [
    "import torch\n",
    "import numpy as np\n",
    "import open3d as o3d\n",
    "import time\n",
    "from diff_gaussian_rasterization import GaussianRasterizer as Renderer\n",
    "from helpers import setup_camera, quat_mult\n",
    "from external import build_rotation\n",
    "from colormap import colormap\n",
    "from copy import deepcopy"
   ]
  },
  {
   "cell_type": "code",
   "execution_count": 2,
   "metadata": {
    "tags": []
   },
   "outputs": [],
   "source": [
    "RENDER_MODE = 'color'  # 'color', 'depth' or 'centers'\n",
    "# RENDER_MODE = 'depth'  # 'color', 'depth' or 'centers'\n",
    "# RENDER_MODE = 'centers'  # 'color', 'depth' or 'centers'\n",
    "\n",
    "ADDITIONAL_LINES = None  # None, 'trajectories' or 'rotations'\n",
    "# ADDITIONAL_LINES = 'trajectories'  # None, 'trajectories' or 'rotations'\n",
    "# ADDITIONAL_LINES = 'rotations'  # None, 'trajectories' or 'rotations'\n",
    "\n",
    "REMOVE_BACKGROUND = False  # False or True\n",
    "# REMOVE_BACKGROUND = True  # False or True\n",
    "\n",
    "FORCE_LOOP = False  # False or True\n",
    "# FORCE_LOOP = True  # False or True"
   ]
  },
  {
   "cell_type": "code",
   "execution_count": 3,
   "metadata": {
    "tags": []
   },
   "outputs": [],
   "source": [
    "w, h = 640, 360\n",
    "near, far = 0.01, 100.0\n",
    "view_scale = 3.9\n",
    "fps = 20\n",
    "traj_frac = 25  # 4% of points\n",
    "traj_length = 15\n",
    "def_pix = torch.tensor(\n",
    "    np.stack(np.meshgrid(np.arange(w) + 0.5, np.arange(h) + 0.5, 1), -1).reshape(-1, 3)).cuda().float()\n",
    "pix_ones = torch.ones(h * w, 1).cuda().float()"
   ]
  },
  {
   "cell_type": "code",
   "execution_count": 4,
   "metadata": {
    "tags": []
   },
   "outputs": [],
   "source": [
    "def load_scene_data(seq, exp, seg_as_col=False):\n",
    "    params = dict(np.load(f\"./output/{exp}/{seq}/params.npz\"))\n",
    "    params = {k: torch.tensor(v).cuda().float() for k, v in params.items()}\n",
    "    is_fg = params['seg_colors'][:, 0] > 0.5\n",
    "    scene_data = []\n",
    "    for t in range(len(params['means3D'])):\n",
    "        mask = ((torch.sigmoid(params[\"mask\"][t]) > 0.01).float() - torch.sigmoid(params[\"mask\"][t])).detach() + torch.sigmoid(params[\"mask\"][t])\n",
    "        rendervar = {\n",
    "            'means3D': params['means3D'][t],\n",
    "            'colors_precomp': params['rgb_colors'][t] if not seg_as_col else params['seg_colors'],\n",
    "            'rotations': torch.nn.functional.normalize(params['unnorm_rotations'][t]),\n",
    "            'opacities': torch.sigmoid(params['logit_opacities']) * mask,\n",
    "            'scales': torch.exp(params['log_scales']) * mask,\n",
    "            'means2D': torch.zeros_like(params['means3D'][0], device=\"cuda\")\n",
    "        }\n",
    "        if REMOVE_BACKGROUND:\n",
    "            rendervar = {k: v[is_fg] for k, v in rendervar.items()}\n",
    "        scene_data.append(rendervar)\n",
    "    if REMOVE_BACKGROUND:\n",
    "        is_fg = is_fg[is_fg]\n",
    "    return scene_data, is_fg"
   ]
  },
  {
   "cell_type": "code",
   "execution_count": 5,
   "metadata": {
    "tags": []
   },
   "outputs": [],
   "source": [
    "def make_lineset(all_pts, cols, num_lines):\n",
    "    linesets = []\n",
    "    for pts in all_pts:\n",
    "        lineset = o3d.geometry.LineSet()\n",
    "        lineset.points = o3d.utility.Vector3dVector(np.ascontiguousarray(pts, np.float64))\n",
    "        lineset.colors = o3d.utility.Vector3dVector(np.ascontiguousarray(cols, np.float64))\n",
    "        pt_indices = np.arange(len(lineset.points))\n",
    "        line_indices = np.stack((pt_indices, pt_indices - num_lines), -1)[num_lines:]\n",
    "        lineset.lines = o3d.utility.Vector2iVector(np.ascontiguousarray(line_indices, np.int32))\n",
    "        linesets.append(lineset)\n",
    "    return linesets\n",
    "\n",
    "\n",
    "def calculate_trajectories(scene_data, is_fg):\n",
    "    in_pts = [data['means3D'][is_fg][::traj_frac].contiguous().float().cpu().numpy() for data in scene_data]\n",
    "    num_lines = len(in_pts[0])\n",
    "    cols = np.repeat(colormap[np.arange(len(in_pts[0])) % len(colormap)][None], traj_length, 0).reshape(-1, 3)\n",
    "    out_pts = []\n",
    "    for t in range(len(in_pts))[traj_length:]:\n",
    "        out_pts.append(np.array(in_pts[t - traj_length:t + 1]).reshape(-1, 3))\n",
    "    return make_lineset(out_pts, cols, num_lines)"
   ]
  },
  {
   "cell_type": "code",
   "execution_count": 6,
   "metadata": {
    "tags": []
   },
   "outputs": [],
   "source": [
    "def calculate_rot_vec(scene_data, is_fg):\n",
    "    in_pts = [data['means3D'][is_fg][::traj_frac].contiguous().float().cpu().numpy() for data in scene_data]\n",
    "    in_rotation = [data['rotations'][is_fg][::traj_frac] for data in scene_data]\n",
    "    num_lines = len(in_pts[0])\n",
    "    cols = colormap[np.arange(num_lines) % len(colormap)]\n",
    "    inv_init_q = deepcopy(in_rotation[0])\n",
    "    inv_init_q[:, 1:] = -1 * inv_init_q[:, 1:]\n",
    "    inv_init_q = inv_init_q / (inv_init_q ** 2).sum(-1)[:, None]\n",
    "    init_vec = np.array([-0.1, 0, 0])\n",
    "    out_pts = []\n",
    "    for t in range(len(in_pts)):\n",
    "        cam_rel_qs = quat_mult(in_rotation[t], inv_init_q)\n",
    "        rot = build_rotation(cam_rel_qs).cpu().numpy()\n",
    "        vec = (rot @ init_vec[None, :, None]).squeeze()\n",
    "        out_pts.append(np.concatenate((in_pts[t] + vec, in_pts[t]), 0))\n",
    "    return make_lineset(out_pts, cols, num_lines)\n",
    "\n",
    "\n",
    "def render(w2c, k, timestep_data):\n",
    "    with torch.no_grad():\n",
    "        cam = setup_camera(w, h, k, w2c, near, far)\n",
    "        im, _, depth, = Renderer(raster_settings=cam)(**timestep_data)\n",
    "        return im, depth\n"
   ]
  },
  {
   "cell_type": "code",
   "execution_count": 7,
   "metadata": {
    "tags": []
   },
   "outputs": [],
   "source": [
    "def rgbd2pcd(im, depth, w2c, k, show_depth=False, project_to_cam_w_scale=None):\n",
    "    d_near = 1.5\n",
    "    d_far = 6\n",
    "    invk = torch.inverse(torch.tensor(k).cuda().float())\n",
    "    c2w = torch.inverse(torch.tensor(w2c).cuda().float())\n",
    "    radial_depth = depth[0].reshape(-1)\n",
    "    def_rays = (invk @ def_pix.T).T\n",
    "    def_radial_rays = def_rays / torch.linalg.norm(def_rays, ord=2, dim=-1)[:, None]\n",
    "    pts_cam = def_radial_rays * radial_depth[:, None]\n",
    "    z_depth = pts_cam[:, 2]\n",
    "    if project_to_cam_w_scale is not None:\n",
    "        pts_cam = project_to_cam_w_scale * pts_cam / z_depth[:, None]\n",
    "    pts4 = torch.concat((pts_cam, pix_ones), 1)\n",
    "    pts = (c2w @ pts4.T).T[:, :3]\n",
    "    if show_depth:\n",
    "        cols = ((z_depth - d_near) / (d_far - d_near))[:, None].repeat(1, 3)\n",
    "    else:\n",
    "        cols = torch.permute(im, (1, 2, 0)).reshape(-1, 3)\n",
    "    pts = o3d.utility.Vector3dVector(pts.contiguous().double().cpu().numpy())\n",
    "    cols = o3d.utility.Vector3dVector(cols.contiguous().double().cpu().numpy())\n",
    "    return pts, cols"
   ]
  },
  {
   "cell_type": "code",
   "execution_count": 8,
   "metadata": {
    "tags": []
   },
   "outputs": [],
   "source": [
    "def visualize(seq, exp):\n",
    "    scene_data, is_fg = load_scene_data(seq, exp)\n",
    "\n",
    "    vis = o3d.visualization.Visualizer()\n",
    "    vis.create_window(width=int(w * view_scale), height=int(h * view_scale), visible=True)\n",
    "\n",
    "    w2c, k = init_camera()\n",
    "    im, depth = render(w2c, k, scene_data[0])\n",
    "    init_pts, init_cols = rgbd2pcd(im, depth, w2c, k, show_depth=(RENDER_MODE == 'depth'))\n",
    "    pcd = o3d.geometry.PointCloud()\n",
    "    pcd.points = init_pts\n",
    "    pcd.colors = init_cols\n",
    "    vis.add_geometry(pcd)\n",
    "\n",
    "    linesets = None\n",
    "    lines = None\n",
    "    if ADDITIONAL_LINES is not None:\n",
    "        if ADDITIONAL_LINES == 'trajectories':\n",
    "            linesets = calculate_trajectories(scene_data, is_fg)\n",
    "        elif ADDITIONAL_LINES == 'rotations':\n",
    "            linesets = calculate_rot_vec(scene_data, is_fg)\n",
    "        lines = o3d.geometry.LineSet()\n",
    "        lines.points = linesets[0].points\n",
    "        lines.colors = linesets[0].colors\n",
    "        lines.lines = linesets[0].lines\n",
    "        vis.add_geometry(lines)\n",
    "\n",
    "    view_k = k * view_scale\n",
    "    view_k[2, 2] = 1\n",
    "    view_control = vis.get_view_control()\n",
    "    cparams = o3d.camera.PinholeCameraParameters()\n",
    "    cparams.extrinsic = w2c\n",
    "    cparams.intrinsic.intrinsic_matrix = view_k\n",
    "    cparams.intrinsic.height = int(h * view_scale)\n",
    "    cparams.intrinsic.width = int(w * view_scale)\n",
    "    view_control.convert_from_pinhole_camera_parameters(cparams, allow_arbitrary=True)\n",
    "\n",
    "    render_options = vis.get_render_option()\n",
    "    render_options.point_size = view_scale\n",
    "    render_options.light_on = False\n",
    "\n",
    "    start_time = time.time()\n",
    "    num_timesteps = len(scene_data)\n",
    "    while True:\n",
    "        passed_time = time.time() - start_time\n",
    "        passed_frames = passed_time * fps\n",
    "        if ADDITIONAL_LINES == 'trajectories':\n",
    "            t = int(passed_frames % (num_timesteps - traj_length)) + traj_length  # Skip t that don't have full traj.\n",
    "        else:\n",
    "            t = int(passed_frames % num_timesteps)\n",
    "\n",
    "        if FORCE_LOOP:\n",
    "            num_loops = 1.4\n",
    "            y_angle = 360*t*num_loops / num_timesteps\n",
    "            w2c, k = init_camera(y_angle)\n",
    "            cam_params = view_control.convert_to_pinhole_camera_parameters()\n",
    "            cam_params.extrinsic = w2c\n",
    "            view_control.convert_from_pinhole_camera_parameters(cam_params, allow_arbitrary=True)\n",
    "        else:  # Interactive control\n",
    "            cam_params = view_control.convert_to_pinhole_camera_parameters()\n",
    "            view_k = cam_params.intrinsic.intrinsic_matrix\n",
    "            k = view_k / view_scale\n",
    "            k[2, 2] = 1\n",
    "            w2c = cam_params.extrinsic\n",
    "\n",
    "        if RENDER_MODE == 'centers':\n",
    "            pts = o3d.utility.Vector3dVector(scene_data[t]['means3D'].contiguous().double().cpu().numpy())\n",
    "            cols = o3d.utility.Vector3dVector(scene_data[t]['colors_precomp'].contiguous().double().cpu().numpy())\n",
    "        else:\n",
    "            im, depth = render(w2c, k, scene_data[t])\n",
    "            pts, cols = rgbd2pcd(im, depth, w2c, k, show_depth=(RENDER_MODE == 'depth'))\n",
    "        pcd.points = pts\n",
    "        pcd.colors = cols\n",
    "        vis.update_geometry(pcd)\n",
    "\n",
    "        if ADDITIONAL_LINES is not None:\n",
    "            if ADDITIONAL_LINES == 'trajectories':\n",
    "                lt = t - traj_length\n",
    "            else:\n",
    "                lt = t\n",
    "            lines.points = linesets[lt].points\n",
    "            lines.colors = linesets[lt].colors\n",
    "            lines.lines = linesets[lt].lines\n",
    "            vis.update_geometry(lines)\n",
    "\n",
    "        if not vis.poll_events():\n",
    "            break\n",
    "        vis.update_renderer()"
   ]
  },
  {
   "cell_type": "code",
   "execution_count": 9,
   "metadata": {
    "tags": []
   },
   "outputs": [],
   "source": [
    "exp_name = \"baseline_mask\""
   ]
  },
  {
   "cell_type": "code",
   "execution_count": null,
   "metadata": {
    "tags": []
   },
   "outputs": [],
   "source": [
    "# for sequence in [\"basketball\", \"juggle\", \"tennis\"]:\n",
    "visualize(\"basketball\", exp_name)"
   ]
  },
  {
   "cell_type": "code",
   "execution_count": null,
   "metadata": {},
   "outputs": [],
   "source": []
  }
 ],
 "metadata": {
  "kernelspec": {
   "display_name": "Python 3 (ipykernel)",
   "language": "python",
   "name": "python3"
  },
  "language_info": {
   "codemirror_mode": {
    "name": "ipython",
    "version": 3
   },
   "file_extension": ".py",
   "mimetype": "text/x-python",
   "name": "python",
   "nbconvert_exporter": "python",
   "pygments_lexer": "ipython3",
   "version": "3.7.13"
  }
 },
 "nbformat": 4,
 "nbformat_minor": 4
}
